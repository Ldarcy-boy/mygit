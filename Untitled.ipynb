{
 "cells": [
  {
   "cell_type": "code",
   "execution_count": 1,
   "id": "a68597b2",
   "metadata": {},
   "outputs": [],
   "source": [
    "import pandas as pd\n",
    "import numpy as np\n",
    "from collections import Counter\n",
    "import os\n",
    "import matplotlib.pyplot as plt\n",
    "%matplotlib inline\n",
    "import random\n",
    "import time"
   ]
  },
  {
   "cell_type": "code",
   "execution_count": 11,
   "id": "3177d71c",
   "metadata": {},
   "outputs": [],
   "source": [
    " \n",
    "df1 = pd.read_csv('组框机状态 - 副本.csv')"
   ]
  },
  {
   "cell_type": "code",
   "execution_count": 61,
   "id": "a0b93c73",
   "metadata": {},
   "outputs": [],
   "source": [
    "df2=pd.read_csv('组框机数据 - 副本.csv')\n",
    "X1=df2.iloc[:,6:13]\n",
    "X2=df2.iloc[:,0:5]"
   ]
  },
  {
   "cell_type": "code",
   "execution_count": 67,
   "id": "f2b99430",
   "metadata": {},
   "outputs": [
    {
     "data": {
      "text/plain": [
       "'2021/11/19 19:55'"
      ]
     },
     "execution_count": 67,
     "metadata": {},
     "output_type": "execute_result"
    }
   ],
   "source": [
    "time=X2.iloc[0,0]\n",
    "time"
   ]
  },
  {
   "cell_type": "code",
   "execution_count": 12,
   "id": "aeaf2442",
   "metadata": {},
   "outputs": [
    {
     "data": {
      "text/html": [
       "<div>\n",
       "<style scoped>\n",
       "    .dataframe tbody tr th:only-of-type {\n",
       "        vertical-align: middle;\n",
       "    }\n",
       "\n",
       "    .dataframe tbody tr th {\n",
       "        vertical-align: top;\n",
       "    }\n",
       "\n",
       "    .dataframe thead th {\n",
       "        text-align: right;\n",
       "    }\n",
       "</style>\n",
       "<table border=\"1\" class=\"dataframe\">\n",
       "  <thead>\n",
       "    <tr style=\"text-align: right;\">\n",
       "      <th></th>\n",
       "      <th>state1</th>\n",
       "      <th>state2</th>\n",
       "      <th>state3</th>\n",
       "      <th>state4</th>\n",
       "      <th>state4.1</th>\n",
       "    </tr>\n",
       "  </thead>\n",
       "  <tbody>\n",
       "    <tr>\n",
       "      <th>count</th>\n",
       "      <td>1422.000000</td>\n",
       "      <td>1422.000000</td>\n",
       "      <td>1422.000000</td>\n",
       "      <td>1422.000000</td>\n",
       "      <td>1422.0</td>\n",
       "    </tr>\n",
       "    <tr>\n",
       "      <th>mean</th>\n",
       "      <td>1.515471</td>\n",
       "      <td>0.895921</td>\n",
       "      <td>0.003516</td>\n",
       "      <td>0.022504</td>\n",
       "      <td>0.0</td>\n",
       "    </tr>\n",
       "    <tr>\n",
       "      <th>std</th>\n",
       "      <td>0.562216</td>\n",
       "      <td>0.305470</td>\n",
       "      <td>0.059214</td>\n",
       "      <td>0.148366</td>\n",
       "      <td>0.0</td>\n",
       "    </tr>\n",
       "    <tr>\n",
       "      <th>min</th>\n",
       "      <td>0.000000</td>\n",
       "      <td>0.000000</td>\n",
       "      <td>0.000000</td>\n",
       "      <td>0.000000</td>\n",
       "      <td>0.0</td>\n",
       "    </tr>\n",
       "    <tr>\n",
       "      <th>25%</th>\n",
       "      <td>1.000000</td>\n",
       "      <td>1.000000</td>\n",
       "      <td>0.000000</td>\n",
       "      <td>0.000000</td>\n",
       "      <td>0.0</td>\n",
       "    </tr>\n",
       "    <tr>\n",
       "      <th>50%</th>\n",
       "      <td>1.000000</td>\n",
       "      <td>1.000000</td>\n",
       "      <td>0.000000</td>\n",
       "      <td>0.000000</td>\n",
       "      <td>0.0</td>\n",
       "    </tr>\n",
       "    <tr>\n",
       "      <th>75%</th>\n",
       "      <td>2.000000</td>\n",
       "      <td>1.000000</td>\n",
       "      <td>0.000000</td>\n",
       "      <td>0.000000</td>\n",
       "      <td>0.0</td>\n",
       "    </tr>\n",
       "    <tr>\n",
       "      <th>max</th>\n",
       "      <td>3.000000</td>\n",
       "      <td>1.000000</td>\n",
       "      <td>1.000000</td>\n",
       "      <td>1.000000</td>\n",
       "      <td>0.0</td>\n",
       "    </tr>\n",
       "  </tbody>\n",
       "</table>\n",
       "</div>"
      ],
      "text/plain": [
       "            state1       state2       state3       state4  state4.1\n",
       "count  1422.000000  1422.000000  1422.000000  1422.000000    1422.0\n",
       "mean      1.515471     0.895921     0.003516     0.022504       0.0\n",
       "std       0.562216     0.305470     0.059214     0.148366       0.0\n",
       "min       0.000000     0.000000     0.000000     0.000000       0.0\n",
       "25%       1.000000     1.000000     0.000000     0.000000       0.0\n",
       "50%       1.000000     1.000000     0.000000     0.000000       0.0\n",
       "75%       2.000000     1.000000     0.000000     0.000000       0.0\n",
       "max       3.000000     1.000000     1.000000     1.000000       0.0"
      ]
     },
     "execution_count": 12,
     "metadata": {},
     "output_type": "execute_result"
    }
   ],
   "source": [
    "df1.describe()"
   ]
  },
  {
   "cell_type": "code",
   "execution_count": 16,
   "id": "e4886129",
   "metadata": {},
   "outputs": [
    {
     "data": {
      "text/html": [
       "<div>\n",
       "<style scoped>\n",
       "    .dataframe tbody tr th:only-of-type {\n",
       "        vertical-align: middle;\n",
       "    }\n",
       "\n",
       "    .dataframe tbody tr th {\n",
       "        vertical-align: top;\n",
       "    }\n",
       "\n",
       "    .dataframe thead th {\n",
       "        text-align: right;\n",
       "    }\n",
       "</style>\n",
       "<table border=\"1\" class=\"dataframe\">\n",
       "  <thead>\n",
       "    <tr style=\"text-align: right;\">\n",
       "      <th></th>\n",
       "      <th>beat</th>\n",
       "      <th>a1</th>\n",
       "      <th>a2</th>\n",
       "      <th>b1</th>\n",
       "      <th>b2</th>\n",
       "      <th>c1</th>\n",
       "      <th>c2</th>\n",
       "      <th>c3</th>\n",
       "      <th>c4</th>\n",
       "      <th>time</th>\n",
       "    </tr>\n",
       "  </thead>\n",
       "  <tbody>\n",
       "    <tr>\n",
       "      <th>count</th>\n",
       "      <td>719.000000</td>\n",
       "      <td>719.000000</td>\n",
       "      <td>719.000000</td>\n",
       "      <td>719.000000</td>\n",
       "      <td>719.000000</td>\n",
       "      <td>719.000000</td>\n",
       "      <td>719.000000</td>\n",
       "      <td>719.000000</td>\n",
       "      <td>719.000000</td>\n",
       "      <td>719.000000</td>\n",
       "    </tr>\n",
       "    <tr>\n",
       "      <th>mean</th>\n",
       "      <td>45.194715</td>\n",
       "      <td>25.980529</td>\n",
       "      <td>22.471488</td>\n",
       "      <td>46.069541</td>\n",
       "      <td>45.166898</td>\n",
       "      <td>83.283727</td>\n",
       "      <td>43.568846</td>\n",
       "      <td>43.685675</td>\n",
       "      <td>83.072323</td>\n",
       "      <td>19.481224</td>\n",
       "    </tr>\n",
       "    <tr>\n",
       "      <th>std</th>\n",
       "      <td>74.105010</td>\n",
       "      <td>0.817401</td>\n",
       "      <td>1.306277</td>\n",
       "      <td>0.358974</td>\n",
       "      <td>0.380537</td>\n",
       "      <td>0.933827</td>\n",
       "      <td>0.941419</td>\n",
       "      <td>0.815042</td>\n",
       "      <td>0.851215</td>\n",
       "      <td>4.698055</td>\n",
       "    </tr>\n",
       "    <tr>\n",
       "      <th>min</th>\n",
       "      <td>0.000000</td>\n",
       "      <td>25.000000</td>\n",
       "      <td>21.000000</td>\n",
       "      <td>45.000000</td>\n",
       "      <td>44.000000</td>\n",
       "      <td>81.000000</td>\n",
       "      <td>42.000000</td>\n",
       "      <td>42.000000</td>\n",
       "      <td>81.000000</td>\n",
       "      <td>0.000000</td>\n",
       "    </tr>\n",
       "    <tr>\n",
       "      <th>25%</th>\n",
       "      <td>28.000000</td>\n",
       "      <td>26.000000</td>\n",
       "      <td>22.000000</td>\n",
       "      <td>46.000000</td>\n",
       "      <td>45.000000</td>\n",
       "      <td>83.000000</td>\n",
       "      <td>43.000000</td>\n",
       "      <td>43.000000</td>\n",
       "      <td>83.000000</td>\n",
       "      <td>18.000000</td>\n",
       "    </tr>\n",
       "    <tr>\n",
       "      <th>50%</th>\n",
       "      <td>34.000000</td>\n",
       "      <td>26.000000</td>\n",
       "      <td>22.000000</td>\n",
       "      <td>46.000000</td>\n",
       "      <td>45.000000</td>\n",
       "      <td>83.000000</td>\n",
       "      <td>44.000000</td>\n",
       "      <td>44.000000</td>\n",
       "      <td>83.000000</td>\n",
       "      <td>19.000000</td>\n",
       "    </tr>\n",
       "    <tr>\n",
       "      <th>75%</th>\n",
       "      <td>41.000000</td>\n",
       "      <td>26.000000</td>\n",
       "      <td>23.000000</td>\n",
       "      <td>46.000000</td>\n",
       "      <td>45.000000</td>\n",
       "      <td>84.000000</td>\n",
       "      <td>44.000000</td>\n",
       "      <td>44.000000</td>\n",
       "      <td>84.000000</td>\n",
       "      <td>19.000000</td>\n",
       "    </tr>\n",
       "    <tr>\n",
       "      <th>max</th>\n",
       "      <td>1150.000000</td>\n",
       "      <td>40.000000</td>\n",
       "      <td>43.000000</td>\n",
       "      <td>48.000000</td>\n",
       "      <td>47.000000</td>\n",
       "      <td>86.000000</td>\n",
       "      <td>48.000000</td>\n",
       "      <td>47.000000</td>\n",
       "      <td>85.000000</td>\n",
       "      <td>38.000000</td>\n",
       "    </tr>\n",
       "  </tbody>\n",
       "</table>\n",
       "</div>"
      ],
      "text/plain": [
       "              beat          a1          a2          b1          b2  \\\n",
       "count   719.000000  719.000000  719.000000  719.000000  719.000000   \n",
       "mean     45.194715   25.980529   22.471488   46.069541   45.166898   \n",
       "std      74.105010    0.817401    1.306277    0.358974    0.380537   \n",
       "min       0.000000   25.000000   21.000000   45.000000   44.000000   \n",
       "25%      28.000000   26.000000   22.000000   46.000000   45.000000   \n",
       "50%      34.000000   26.000000   22.000000   46.000000   45.000000   \n",
       "75%      41.000000   26.000000   23.000000   46.000000   45.000000   \n",
       "max    1150.000000   40.000000   43.000000   48.000000   47.000000   \n",
       "\n",
       "               c1          c2          c3          c4        time  \n",
       "count  719.000000  719.000000  719.000000  719.000000  719.000000  \n",
       "mean    83.283727   43.568846   43.685675   83.072323   19.481224  \n",
       "std      0.933827    0.941419    0.815042    0.851215    4.698055  \n",
       "min     81.000000   42.000000   42.000000   81.000000    0.000000  \n",
       "25%     83.000000   43.000000   43.000000   83.000000   18.000000  \n",
       "50%     83.000000   44.000000   44.000000   83.000000   19.000000  \n",
       "75%     84.000000   44.000000   44.000000   84.000000   19.000000  \n",
       "max     86.000000   48.000000   47.000000   85.000000   38.000000  "
      ]
     },
     "execution_count": 16,
     "metadata": {},
     "output_type": "execute_result"
    }
   ],
   "source": [
    "df2.describe()"
   ]
  },
  {
   "cell_type": "code",
   "execution_count": 83,
   "id": "9a4ec420",
   "metadata": {},
   "outputs": [
    {
     "data": {
      "text/plain": [
       "{'whiskers': [<matplotlib.lines.Line2D at 0x247eba5d5e0>,\n",
       "  <matplotlib.lines.Line2D at 0x247eba5d940>],\n",
       " 'caps': [<matplotlib.lines.Line2D at 0x247eba5dca0>,\n",
       "  <matplotlib.lines.Line2D at 0x247eba68040>],\n",
       " 'boxes': [<matplotlib.lines.Line2D at 0x247eba5d280>],\n",
       " 'medians': [<matplotlib.lines.Line2D at 0x247eba683a0>],\n",
       " 'fliers': [<matplotlib.lines.Line2D at 0x247eba68700>],\n",
       " 'means': []}"
      ]
     },
     "execution_count": 83,
     "metadata": {},
     "output_type": "execute_result"
    },
    {
     "data": {
      "image/png": "[encoded data removed]",
      "text/plain": [
       "<Figure size 432x288 with 1 Axes>"
      ]
     },
     "metadata": {
      "needs_background": "light"
     },
     "output_type": "display_data"
    }
   ],
   "source": [
    "import matplotlib.pyplot as plt\n",
    "plt.boxplot(df2.loc[:,'c1'])"
   ]
  },
  {
   "cell_type": "code",
   "execution_count": 25,
   "id": "a67b2b95",
   "metadata": {},
   "outputs": [
    {
     "data": {
      "text/plain": [
       "in                2021/11/19 20:08\n",
       "out               2021/11/19 20:09\n",
       "beat                            81\n",
       "dajiao_finish                08 30\n",
       "on position                  08 41\n",
       "zukuang_finish               08 51\n",
       "a1                              26\n",
       "a2                              22\n",
       "b1                              47\n",
       "b2                              46\n",
       "c1                              82\n",
       "c2                              44\n",
       "c3                              44\n",
       "c4                              83\n",
       "time                            38\n",
       "Name: 1, dtype: object"
      ]
     },
     "execution_count": 25,
     "metadata": {},
     "output_type": "execute_result"
    }
   ],
   "source": [
    "df2.iloc[1,:]"
   ]
  },
  {
   "cell_type": "code",
   "execution_count": null,
   "id": "fd4d3464",
   "metadata": {},
   "outputs": [],
   "source": []
  },
  {
   "cell_type": "code",
   "execution_count": 60,
   "id": "705b6a83",
   "metadata": {},
   "outputs": [
    {
     "name": "stdout",
     "output_type": "stream",
     "text": [
      "time.struct_time(tm_year=2019, tm_mon=5, tm_mday=10, tm_hour=23, tm_min=40, tm_sec=0, tm_wday=4, tm_yday=130, tm_isdst=-1)\n",
      "1557502800\n",
      "2019/05/10 23:40:00\n"
     ]
    }
   ],
   "source": [
    "import time\n",
    " \n",
    "a1 = \"2019-5-10 23:40:00\"\n",
    "# 先转换为时间数组\n",
    "timeArray = time.strptime(a1, \"%Y-%m-%d %H:%M:%S\")\n",
    " \n",
    "# 转换为时间戳\n",
    "timeStamp = int(time.mktime(timeArray))\n",
    "print(timeStamp)\n",
    " \n",
    " \n",
    "# 格式转换 - 转为 /\n",
    "a2 = \"2019/5/10 23:40:00\"\n",
    "# 先转换为时间数组,然后转换为其他格式\n",
    "timeArray = time.strptime(a2, \"%Y/%m/%d %H:%M:%S\")\n",
    "otherStyleTime = time.strftime(\"%Y/%m/%d %H:%M:%S\", timeArray)\n",
    "print(otherStyleTime)"
   ]
  },
  {
   "cell_type": "code",
   "execution_count": 84,
   "id": "d3bdf97d",
   "metadata": {},
   "outputs": [
    {
     "ename": "NameError",
     "evalue": "name 'plot_decision_boundary' is not defined",
     "output_type": "error",
     "traceback": [
      "\u001b[1;31m---------------------------------------------------------------------------\u001b[0m",
      "\u001b[1;31mNameError\u001b[0m                                 Traceback (most recent call last)",
      "\u001b[1;32m<ipython-input-84-9445355bba07>\u001b[0m in \u001b[0;36m<module>\u001b[1;34m\u001b[0m\n\u001b[0;32m      4\u001b[0m \u001b[0mkmeans\u001b[0m\u001b[1;33m=\u001b[0m\u001b[0mKMeans\u001b[0m\u001b[1;33m(\u001b[0m\u001b[0mn_clusters\u001b[0m\u001b[1;33m=\u001b[0m\u001b[0mk\u001b[0m\u001b[1;33m,\u001b[0m\u001b[0mrandom_state\u001b[0m\u001b[1;33m=\u001b[0m\u001b[1;36m42\u001b[0m\u001b[1;33m)\u001b[0m\u001b[1;33m\u001b[0m\u001b[1;33m\u001b[0m\u001b[0m\n\u001b[0;32m      5\u001b[0m \u001b[0mplt\u001b[0m\u001b[1;33m.\u001b[0m\u001b[0mfigure\u001b[0m\u001b[1;33m(\u001b[0m\u001b[0mfigsize\u001b[0m\u001b[1;33m=\u001b[0m\u001b[1;33m(\u001b[0m\u001b[1;36m8\u001b[0m\u001b[1;33m,\u001b[0m\u001b[1;36m4\u001b[0m\u001b[1;33m)\u001b[0m\u001b[1;33m)\u001b[0m\u001b[1;33m\u001b[0m\u001b[1;33m\u001b[0m\u001b[0m\n\u001b[1;32m----> 6\u001b[1;33m \u001b[0mplot_decision_boundary\u001b[0m\u001b[1;33m(\u001b[0m\u001b[0mkmeans\u001b[0m \u001b[1;33m,\u001b[0m \u001b[0mX\u001b[0m\u001b[1;33m)\u001b[0m\u001b[1;33m\u001b[0m\u001b[1;33m\u001b[0m\u001b[0m\n\u001b[0m\u001b[0;32m      7\u001b[0m \u001b[0mplt\u001b[0m\u001b[1;33m.\u001b[0m\u001b[0mshow\u001b[0m\u001b[1;33m(\u001b[0m\u001b[1;33m)\u001b[0m\u001b[1;33m\u001b[0m\u001b[1;33m\u001b[0m\u001b[0m\n",
      "\u001b[1;31mNameError\u001b[0m: name 'plot_decision_boundary' is not defined"
     ]
    },
    {
     "data": {
      "text/plain": [
       "<Figure size 576x288 with 0 Axes>"
      ]
     },
     "metadata": {},
     "output_type": "display_data"
    }
   ],
   "source": [
    "from sklearn.cluster import KMeans\n",
    "import sklearn\n",
    "k=2\n",
    "kmeans=KMeans(n_clusters=k,random_state=42)\n",
    "plt.figure(figsize=(8,4))\n",
    "plot_decision_boundary(kmeans , X)\n",
    "plt.show()"
   ]
  },
  {
   "cell_type": "code",
   "execution_count": 88,
   "id": "6feae722",
   "metadata": {},
   "outputs": [
    {
     "name": "stdout",
     "output_type": "stream",
     "text": [
      "[0.43083511 0.31889704 0.09976532]\n",
      "[2.18466538 1.61705329 0.5058869 ]\n"
     ]
    }
   ],
   "source": [
    "from sklearn.decomposition import PCA\n",
    "pca = PCA(n_components=3)\n",
    "pca.fit(X)\n",
    "print(pca.explained_variance_ratio_)\n",
    "print(pca.explained_variance_)"
   ]
  },
  {
   "cell_type": "code",
   "execution_count": 89,
   "id": "f88a4360",
   "metadata": {},
   "outputs": [
    {
     "data": {
      "image/png": "[encoded data removed]",
      "text/plain": [
       "<Figure size 432x288 with 1 Axes>"
      ]
     },
     "metadata": {
      "needs_background": "light"
     },
     "output_type": "display_data"
    }
   ],
   "source": [
    "X_new = pca.transform(X)\n",
    "plt.scatter(X_new[:, 0], X_new[:, 1],marker='o')\n",
    "plt.show()"
   ]
  },
  {
   "cell_type": "code",
   "execution_count": 91,
   "id": "7fa3b39f",
   "metadata": {},
   "outputs": [],
   "source": [
    "from sklearn.cluster import KMeans\n",
    "import sklearn\n",
    "k=2\n",
    "kmeans=KMeans(n_clusters=k,random_state=42)"
   ]
  },
  {
   "cell_type": "code",
   "execution_count": null,
   "id": "3a96c267",
   "metadata": {},
   "outputs": [],
   "source": []
  }
 ],
 "metadata": {
  "kernelspec": {
   "display_name": "Python 3",
   "language": "python",
   "name": "python3"
  },
  "language_info": {
   "codemirror_mode": {
    "name": "ipython",
    "version": 3
   },
   "file_extension": ".py",
   "mimetype": "text/x-python",
   "name": "python",
   "nbconvert_exporter": "python",
   "pygments_lexer": "ipython3",
   "version": "3.8.8"
  }
 },
 "nbformat": 4,
 "nbformat_minor": 5
}
